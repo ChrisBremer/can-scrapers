{
 "cells": [
  {
   "cell_type": "code",
   "execution_count": 31,
   "metadata": {},
   "outputs": [],
   "source": [
    "import pandas as pd\n",
    "import requests\n",
    "import us\n",
    "\n",
    "from can_tools.scrapers.base import CMU\n",
    "from can_tools.scrapers.official.base import CountyDashboard\n",
    "from can_tools.scrapers.official.base import StateDashboard"
   ]
  },
  {
   "cell_type": "code",
   "execution_count": 34,
   "metadata": {},
   "outputs": [],
   "source": [
    "url = (\n",
    "    \"https://www.tn.gov/content/dam/tn/health/documents/cedep/\"\n",
    "    \"novel-coronavirus/datasets/Public-Dataset-County-New.XLSX\"\n",
    ")\n",
    "request = requests.get(url)\n",
    "data = request.content"
   ]
  },
  {
   "cell_type": "code",
   "execution_count": 37,
   "metadata": {},
   "outputs": [
    {
     "name": "stdout",
     "output_type": "stream",
     "text": [
      "              dt location_name  TOTAL_CASES  NEW_CASES  TOTAL_CONFIRMED  \\\n",
      "0     2020-03-05        Shelby          NaN        NaN              NaN   \n",
      "1     2020-03-05    Williamson          1.0        NaN              NaN   \n",
      "2     2020-03-06      Davidson          NaN        NaN              NaN   \n",
      "3     2020-03-06    Williamson          1.0        0.0              NaN   \n",
      "4     2020-03-07    Williamson          1.0        0.0              NaN   \n",
      "...          ...           ...          ...        ...              ...   \n",
      "25608 2020-12-11         Wayne       2086.0       18.0           1920.0   \n",
      "25609 2020-12-11       Weakley       2436.0       22.0           2066.0   \n",
      "25610 2020-12-11         White       2123.0       36.0           1848.0   \n",
      "25611 2020-12-11    Williamson      13339.0      170.0          12590.0   \n",
      "25612 2020-12-11        Wilson       9156.0      190.0           8784.0   \n",
      "\n",
      "       NEW_CONFIRMED  TOTAL_PROBABLE  NEW_PROBABLE  POS_TESTS  NEW_POS_TESTS  \\\n",
      "0                NaN             NaN           NaN        NaN            NaN   \n",
      "1                NaN             NaN           NaN        NaN            NaN   \n",
      "2                NaN             NaN           NaN        NaN            NaN   \n",
      "3                NaN             NaN           NaN        NaN            NaN   \n",
      "4                NaN             NaN           NaN        NaN            NaN   \n",
      "...              ...             ...           ...        ...            ...   \n",
      "25608            6.0           166.0          12.0     2104.0            7.0   \n",
      "25609           18.0           370.0           4.0     2377.0           20.0   \n",
      "25610           35.0           275.0           1.0     2341.0           39.0   \n",
      "25611          148.0           749.0          22.0    14253.0          157.0   \n",
      "25612          181.0           372.0           9.0    10175.0          201.0   \n",
      "\n",
      "       ...  NEW_DEATHS  TOTAL_DEATHS  NEW_RECOVERED  TOTAL_RECOVERED  \\\n",
      "0      ...         NaN           NaN            NaN              NaN   \n",
      "1      ...         NaN           NaN            NaN              NaN   \n",
      "2      ...         NaN           NaN            NaN              NaN   \n",
      "3      ...         NaN           NaN            NaN              NaN   \n",
      "4      ...         NaN           NaN            NaN              NaN   \n",
      "...    ...         ...           ...            ...              ...   \n",
      "25608  ...         1.0          14.0            NaN              NaN   \n",
      "25609  ...         0.0          38.0            NaN              NaN   \n",
      "25610  ...         4.0          28.0            NaN              NaN   \n",
      "25611  ...         5.0          96.0            NaN              NaN   \n",
      "25612  ...         0.0          99.0            NaN              NaN   \n",
      "\n",
      "       NEW_ACTIVE  TOTAL_ACTIVE  NEW_INACTIVE_RECOVERED  \\\n",
      "0             NaN           NaN                     NaN   \n",
      "1             NaN           NaN                     NaN   \n",
      "2             NaN           NaN                     NaN   \n",
      "3             NaN           NaN                     NaN   \n",
      "4             NaN           NaN                     NaN   \n",
      "...           ...           ...                     ...   \n",
      "25608         3.0          70.0                    14.0   \n",
      "25609        20.0         190.0                     2.0   \n",
      "25610        33.0         231.0                    -1.0   \n",
      "25611       149.0        1154.0                    16.0   \n",
      "25612       140.0        1012.0                    50.0   \n",
      "\n",
      "       TOTAL_INACTIVE_RECOVERED  NEW_HOSPITALIZED  TOTAL_HOSPITALIZED  \n",
      "0                           NaN               NaN                 NaN  \n",
      "1                           NaN               NaN                 NaN  \n",
      "2                           NaN               NaN                 NaN  \n",
      "3                           NaN               NaN                 NaN  \n",
      "4                           NaN               NaN                 NaN  \n",
      "...                         ...               ...                 ...  \n",
      "25608                    2002.0               1.0                29.0  \n",
      "25609                    2208.0               0.0                44.0  \n",
      "25610                    1864.0               1.0                71.0  \n",
      "25611                   12089.0               1.0               178.0  \n",
      "25612                    8045.0               1.0               184.0  \n",
      "\n",
      "[25613 rows x 24 columns]\n"
     ]
    }
   ],
   "source": [
    "# Read data into data frame\n",
    "df = pd.read_excel(data, parse_dates=[\"DATE\"])\n",
    "\n",
    "# Rename columns\n",
    "df = df.rename(columns={\"DATE\": \"dt\", \"COUNTY\": \"location_name\"})\n",
    "\n",
    "print(df)"
   ]
  },
  {
   "cell_type": "code",
   "execution_count": 38,
   "metadata": {},
   "outputs": [
    {
     "name": "stdout",
     "output_type": "stream",
     "text": [
      "               dt location_name            variable  value\n",
      "4176   2020-05-04      Anderson     TOTAL_CONFIRMED   29.0\n",
      "4177   2020-05-04       Bedford     TOTAL_CONFIRMED  200.0\n",
      "4178   2020-05-04        Benton     TOTAL_CONFIRMED    6.0\n",
      "4179   2020-05-04       Bledsoe     TOTAL_CONFIRMED  598.0\n",
      "4180   2020-05-04        Blount     TOTAL_CONFIRMED   65.0\n",
      "...           ...           ...                 ...    ...\n",
      "230512 2020-12-11         Wayne  TOTAL_HOSPITALIZED   29.0\n",
      "230513 2020-12-11       Weakley  TOTAL_HOSPITALIZED   44.0\n",
      "230514 2020-12-11         White  TOTAL_HOSPITALIZED   71.0\n",
      "230515 2020-12-11    Williamson  TOTAL_HOSPITALIZED  178.0\n",
      "230516 2020-12-11        Wilson  TOTAL_HOSPITALIZED  184.0\n",
      "\n",
      "[210381 rows x 4 columns]\n"
     ]
    }
   ],
   "source": [
    "# Create dictionary for columns to map\n",
    "crename = {\n",
    "    \"TOTAL_CONFIRMED\": CMU(\n",
    "        category=\"cases\", measurement=\"cumulative\", unit=\"people\"\n",
    "    ),\n",
    "    \"TOTAL_PROBABLE\": CMU(\n",
    "        category=\"cases\", measurement=\"new\", unit=\"people\"\n",
    "    ),\n",
    "    \"TOTAL_DEATHS\": CMU(\n",
    "        category=\"deaths\", measurement=\"cumulative\", unit=\"people\"\n",
    "    ),\n",
    "    \"NEW_DEATHS\": CMU(\n",
    "        category=\"deaths\", measurement=\"new\", unit=\"people\"\n",
    "    ),\n",
    "    \"POS_TESTS\": CMU(\n",
    "        category=\"unspecified_tests_positive\", measurement=\"cumulative\", unit=\"specimens\"\n",
    "    ),\n",
    "    \"NEG_TESTS\": CMU(\n",
    "        category=\"unspecified_tests_negative\", measurement=\"cumulative\", unit=\"specimens\"\n",
    "    ),\n",
    "    \"TOTAL_TESTS\": CMU(\n",
    "        category=\"unspecified_tests_total\", measurement=\"cumulative\", unit=\"specimens\"\n",
    "    ),\n",
    "    \"NEW_HOSPITALIZED\": CMU(\n",
    "        category=\"hospital_beds_in_use_covid\", measurement=\"new\", unit=\"beds\"\n",
    "    ),\n",
    "    \"TOTAL_HOSPITALIZED\": CMU(\n",
    "        category=\"hospital_beds_in_use_covid\", measurement=\"cumulative\", unit=\"beds\"\n",
    "    ),\n",
    "}\n",
    "\n",
    "# Move things into long format\n",
    "df = df.melt(\n",
    "    id_vars=[\"dt\", \"location_name\"], value_vars=crename.keys()\n",
    ").dropna()\n",
    "\n",
    "print(df)"
   ]
  },
  {
   "cell_type": "code",
   "execution_count": 44,
   "metadata": {},
   "outputs": [
    {
     "ename": "TypeError",
     "evalue": "extract_CMU() missing 1 required positional argument: 'cmu'",
     "output_type": "error",
     "traceback": [
      "\u001b[1;31m---------------------------------------------------------------------------\u001b[0m",
      "\u001b[1;31mTypeError\u001b[0m                                 Traceback (most recent call last)",
      "\u001b[1;32m<ipython-input-44-f1b1b9fa7c50>\u001b[0m in \u001b[0;36m<module>\u001b[1;34m()\u001b[0m\n\u001b[0;32m      2\u001b[0m \u001b[1;33m\u001b[0m\u001b[0m\n\u001b[0;32m      3\u001b[0m \u001b[1;31m# Determine the category of each observation\u001b[0m\u001b[1;33m\u001b[0m\u001b[1;33m\u001b[0m\u001b[1;33m\u001b[0m\u001b[0m\n\u001b[1;32m----> 4\u001b[1;33m \u001b[0mdf\u001b[0m \u001b[1;33m=\u001b[0m \u001b[0mDatasetBase\u001b[0m\u001b[1;33m.\u001b[0m\u001b[0mextract_CMU\u001b[0m\u001b[1;33m(\u001b[0m\u001b[0mdf\u001b[0m\u001b[1;33m,\u001b[0m \u001b[0mcrename\u001b[0m\u001b[1;33m)\u001b[0m\u001b[1;33m\u001b[0m\u001b[1;33m\u001b[0m\u001b[0m\n\u001b[0m\u001b[0;32m      5\u001b[0m \u001b[1;33m\u001b[0m\u001b[0m\n\u001b[0;32m      6\u001b[0m \u001b[0mprint\u001b[0m\u001b[1;33m(\u001b[0m\u001b[0mdf\u001b[0m\u001b[1;33m)\u001b[0m\u001b[1;33m\u001b[0m\u001b[1;33m\u001b[0m\u001b[0m\n",
      "\u001b[1;31mTypeError\u001b[0m: extract_CMU() missing 1 required positional argument: 'cmu'"
     ]
    }
   ],
   "source": [
    "from can_tools.scrapers.base import DatasetBase\n",
    "\n",
    "# Determine the category of each observation\n",
    "df = self.extract_CMU(df, crename)\n",
    "\n",
    "print(df)"
   ]
  },
  {
   "cell_type": "code",
   "execution_count": null,
   "metadata": {},
   "outputs": [],
   "source": []
  }
 ],
 "metadata": {
  "kernelspec": {
   "display_name": "Python 3",
   "language": "python",
   "name": "python3"
  },
  "language_info": {
   "codemirror_mode": {
    "name": "ipython",
    "version": 3
   },
   "file_extension": ".py",
   "mimetype": "text/x-python",
   "name": "python",
   "nbconvert_exporter": "python",
   "pygments_lexer": "ipython3",
   "version": "3.6.12"
  }
 },
 "nbformat": 4,
 "nbformat_minor": 4
}
